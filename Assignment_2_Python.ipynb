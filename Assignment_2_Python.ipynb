{
  "nbformat": 4,
  "nbformat_minor": 0,
  "metadata": {
    "colab": {
      "name": "Assignment_2_Python.ipynb",
      "provenance": [],
      "include_colab_link": true
    },
    "kernelspec": {
      "name": "python3",
      "display_name": "Python 3"
    },
    "language_info": {
      "name": "python"
    }
  },
  "cells": [
    {
      "cell_type": "markdown",
      "metadata": {
        "id": "view-in-github",
        "colab_type": "text"
      },
      "source": [
        "<a href=\"https://colab.research.google.com/github/NileshCT/assignment/blob/main/Assignment_2_Python.ipynb\" target=\"_parent\"><img src=\"https://colab.research.google.com/assets/colab-badge.svg\" alt=\"Open In Colab\"/></a>"
      ]
    },
    {
      "cell_type": "code",
      "source": [],
      "metadata": {
        "id": "5ek3veyKzlOE"
      },
      "execution_count": null,
      "outputs": []
    },
    {
      "cell_type": "code",
      "source": [
        "#23. Write a Python program to get the frequency of the elements in a list.\n",
        "mylist=[1,2,3,4,5,6,7,8,0,9,8,8,7,6,5,4]\n",
        "x=8\n",
        "count=0\n",
        "for ele in mylist:\n",
        "  if(ele==x):\n",
        "    count=count+1\n",
        "print(\"value {} come {}times\".format(x,count))"
      ],
      "metadata": {
        "id": "Sp0dyrWezmob",
        "colab": {
          "base_uri": "https://localhost:8080/"
        },
        "outputId": "994576d6-3564-45de-f6be-fa2de4029a1e"
      },
      "execution_count": null,
      "outputs": [
        {
          "output_type": "stream",
          "name": "stdout",
          "text": [
            "value 8 come 3times\n"
          ]
        }
      ]
    },
    {
      "cell_type": "code",
      "source": [
        "#21. Write a Python program to find the third-largest number in a list \n",
        "num1=[2,3,4,5,6]\n",
        "num2=[98,46,78]\n",
        "num3=[]\n",
        "for ele in num1:\n",
        "  num3.append(ele)\n",
        "for ele in num2:\n",
        "  num3.append(ele)\n",
        "print(num3)"
      ],
      "metadata": {
        "colab": {
          "base_uri": "https://localhost:8080/"
        },
        "id": "okrG33jE0O2j",
        "outputId": "b5c74456-a844-428a-c064-d9850e1bfd32"
      },
      "execution_count": null,
      "outputs": [
        {
          "output_type": "stream",
          "name": "stdout",
          "text": [
            "[2, 3, 4, 5, 6, 98, 46, 78]\n"
          ]
        }
      ]
    },
    {
      "cell_type": "code",
      "source": [
        "#22.write a program to find the third largest number from list.\n",
        "num=[23,14,15,25,12,12,3,4,89,45,43]\n",
        "length=len(num)\n",
        "print(length)\n",
        "num.sort()\n",
        "print(\"third largest number\",num[length-3])"
      ],
      "metadata": {
        "colab": {
          "base_uri": "https://localhost:8080/"
        },
        "id": "XzZx9wQd1nJX",
        "outputId": "b96e0190-e804-4654-f82c-088cc1a6a849"
      },
      "execution_count": null,
      "outputs": [
        {
          "output_type": "stream",
          "name": "stdout",
          "text": [
            "11\n",
            "third largest number 43\n"
          ]
        }
      ]
    },
    {
      "cell_type": "code",
      "source": [
        "#26. Write a Python program to find common items from two lists\n",
        "a=[1,2,3,4,5,6,7,6,5,4,3,34]\n",
        "b=[3,4,6,78,9,8,7,6,5,43,5]\n",
        "l=[]\n",
        "for i in a:\n",
        "  for j in b:\n",
        "    if i==j:\n",
        "      l.append(i)\n",
        "print(l)"
      ],
      "metadata": {
        "colab": {
          "base_uri": "https://localhost:8080/"
        },
        "id": "ZZI_uMZQ1VFZ",
        "outputId": "ecd63211-fc59-4da8-c076-e48cc562794a"
      },
      "execution_count": null,
      "outputs": [
        {
          "output_type": "stream",
          "name": "stdout",
          "text": [
            "[3, 4, 5, 5, 6, 6, 7, 6, 6, 5, 5, 4, 3]\n"
          ]
        }
      ]
    },
    {
      "cell_type": "markdown",
      "source": [
        "20. What’s The Difference Between The Python append() and extend() Methods?\n",
        "\n",
        "\n",
        "\n",
        " \n",
        "24. Write a Python program to check whether a list contains a sublist \n",
        "25. Write a Python program to generate all sublists of a list\n",
        "26. Write a Python program to find common items from two lists\n",
        "27. How to flatten a list in python?\n",
        "28. How to sort a list in ascending and descending order without using the sort\n",
        "function?\n",
        "29. How to sort a tuple?\n",
        "30. Write a Python program to convert a list of multiple integers into a single integer\n",
        "\n",
        "a. [11, 33, 50] >>> 113350\n",
        "31. Difference between del and clear?\n",
        "32. Difference between remove and pop?\n",
        "33. Difference between indexing and Slicing?\n",
        "34. Difference between sort and sorted?\n",
        "35. Difference between reverse and reversed?\n",
        "36. Difference between copy and deep copy?\n",
        "37. How to check whether the list is empty or not?\n",
        "38. How to concatenate two lists?\n",
        "39. How to find the occurrences of an element in the python list?\n",
        "40. How to flatten a list in python?"
      ],
      "metadata": {
        "id": "e0nOL6f1XPdv"
      }
    },
    {
      "cell_type": "code",
      "source": [],
      "metadata": {
        "id": "9SyaoqLeXgIN"
      },
      "execution_count": null,
      "outputs": []
    }
  ]
}